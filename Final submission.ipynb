{
  "nbformat": 4,
  "nbformat_minor": 0,
  "metadata": {
    "colab": {
      "name": "Final.ipynb",
      "provenance": [],
      "collapsed_sections": []
    },
    "kernelspec": {
      "name": "python3",
      "display_name": "Python 3"
    }
  },
  "cells": [
    {
      "cell_type": "code",
      "metadata": {
        "id": "-GmuXl6htXVe",
        "colab_type": "code",
        "colab": {}
      },
      "source": [
        "import tensorflow as tf\n",
        "from tensorflow.keras.optimizers import RMSprop\n",
        "from tensorflow.keras.preprocessing.image import ImageDataGenerator"
      ],
      "execution_count": 0,
      "outputs": []
    },
    {
      "cell_type": "code",
      "metadata": {
        "id": "m-95UeoqtYTX",
        "colab_type": "code",
        "outputId": "b126f53d-c8e7-4c19-ab74-2dc941ce7ac2",
        "colab": {
          "base_uri": "https://localhost:8080/",
          "height": 200
        }
      },
      "source": [
        "!wget --no-check-certificate \\\n",
        "  https://dicodingacademy.blob.core.windows.net/picodiploma/ml_pemula_academy/rockpaperscissors.zip \\\n",
        "  -O /tmp/rockpaperscissors.zip"
      ],
      "execution_count": 2,
      "outputs": [
        {
          "output_type": "stream",
          "text": [
            "--2020-06-10 06:06:22--  https://dicodingacademy.blob.core.windows.net/picodiploma/ml_pemula_academy/rockpaperscissors.zip\n",
            "Resolving dicodingacademy.blob.core.windows.net (dicodingacademy.blob.core.windows.net)... 52.239.197.36\n",
            "Connecting to dicodingacademy.blob.core.windows.net (dicodingacademy.blob.core.windows.net)|52.239.197.36|:443... connected.\n",
            "HTTP request sent, awaiting response... 200 OK\n",
            "Length: 322873683 (308M) [application/zip]\n",
            "Saving to: ‘/tmp/rockpaperscissors.zip’\n",
            "\n",
            "/tmp/rockpapersciss 100%[===================>] 307.92M  12.7MB/s    in 16s     \n",
            "\n",
            "2020-06-10 06:06:38 (19.0 MB/s) - ‘/tmp/rockpaperscissors.zip’ saved [322873683/322873683]\n",
            "\n"
          ],
          "name": "stdout"
        }
      ]
    },
    {
      "cell_type": "code",
      "metadata": {
        "id": "eum3ImhRtg6L",
        "colab_type": "code",
        "colab": {}
      },
      "source": [
        "# Ekstrak File\n",
        "import zipfile,os\n",
        "local_zip = '/tmp/rockpaperscissors.zip'\n",
        "zip_ref = zipfile.ZipFile(local_zip, 'r')\n",
        "zip_ref.extractall('/tmp')\n",
        "zip_ref.close()\n",
        "\n",
        "base_dir = '/tmp/rockpaperscissors/rps-cv-images'\n",
        "train_dir = os.path.join(base_dir)\n",
        "validation_dir = os.path.join(base_dir)"
      ],
      "execution_count": 0,
      "outputs": []
    },
    {
      "cell_type": "code",
      "metadata": {
        "id": "Si06um3z5Nyt",
        "colab_type": "code",
        "colab": {}
      },
      "source": [
        "datagen = ImageDataGenerator(validation_split=0.3,rescale=1./255)"
      ],
      "execution_count": 0,
      "outputs": []
    },
    {
      "cell_type": "code",
      "metadata": {
        "id": "BZI5ZU7P7PWB",
        "colab_type": "code",
        "colab": {}
      },
      "source": [
        "# pip install split_folders"
      ],
      "execution_count": 0,
      "outputs": []
    },
    {
      "cell_type": "code",
      "metadata": {
        "id": "0m3gphRw5jkF",
        "colab_type": "code",
        "colab": {}
      },
      "source": [
        "# # https://pypi.org/project/split-folders/\n",
        "# import split_folders\n",
        "# split_folders.ratio(base_dir,output='/tmp/rockpaperscissors/data',seed=1337, ratio=(.8, .2))"
      ],
      "execution_count": 0,
      "outputs": []
    },
    {
      "cell_type": "code",
      "metadata": {
        "id": "OOM2tOr1uFIj",
        "colab_type": "code",
        "outputId": "f97dbf78-e8b5-4a9c-e5ac-0670dbf2a29e",
        "colab": {
          "base_uri": "https://localhost:8080/",
          "height": 50
        }
      },
      "source": [
        "# folder akan di split otomatis di image generator menjadi val dan train\n",
        "train_generator = datagen.flow_from_directory(     \n",
        "        train_dir,  # direktori data latih\n",
        "        subset=\"training\",\n",
        "        target_size=(150, 150),# mengubah resolusi seluruh gambar menjadi 150x150 piksel\n",
        "        batch_size=3,\n",
        "        # karena kita merupakan masalah klasifikasi 3 kelas maka menggunakan class_mode = 'categorical'\n",
        "        class_mode=\"categorical\")\n",
        " \n",
        "validation_generator = datagen.flow_from_directory(\n",
        "        validation_dir, # direktori data validasi\n",
        "        subset=\"validation\",\n",
        "        target_size=(150, 150), # mengubah resolusi seluruh gambar menjadi 150x150 piksel\n",
        "        batch_size=3, \n",
        "        # karena kita merupakan masalah klasifikasi 3 kelas maka menggunakan class_mode = 'categorical'\n",
        "        class_mode=\"categorical\")"
      ],
      "execution_count": 7,
      "outputs": [
        {
          "output_type": "stream",
          "text": [
            "Found 1533 images belonging to 3 classes.\n",
            "Found 655 images belonging to 3 classes.\n"
          ],
          "name": "stdout"
        }
      ]
    },
    {
      "cell_type": "code",
      "metadata": {
        "id": "mhMKcE_UNLTT",
        "colab_type": "code",
        "outputId": "08f4a2c1-a921-40d2-e641-ee147740eee2",
        "colab": {
          "base_uri": "https://localhost:8080/",
          "height": 450
        }
      },
      "source": [
        "# Pembuatan model CNN\n",
        "\n",
        "model = tf.keras.models.Sequential([\n",
        "    tf.keras.layers.Conv2D(32, (3,3), activation='relu', input_shape=(150, 150, 3)),\n",
        "    tf.keras.layers.MaxPooling2D(2, 2),\n",
        "    tf.keras.layers.Conv2D(64, (3,3), activation='relu'),\n",
        "    tf.keras.layers.MaxPooling2D(2,2),\n",
        "    tf.keras.layers.Conv2D(64, (3,3), activation='relu'),\n",
        "    tf.keras.layers.MaxPooling2D(2,2),\n",
        "    tf.keras.layers.Flatten(),\n",
        "    tf.keras.layers.Dense(512, activation='relu'),\n",
        "    tf.keras.layers.Dense(3,activation='softmax') #softmax = multiclass. sigmoid = 2 class. Dense = 1 itu berarti 1 class. yang di prediksi 3 class Jadi Dense(3, softmax)\n",
        "\n",
        "])\n",
        "\n",
        "model.summary()"
      ],
      "execution_count": 8,
      "outputs": [
        {
          "output_type": "stream",
          "text": [
            "Model: \"sequential\"\n",
            "_________________________________________________________________\n",
            "Layer (type)                 Output Shape              Param #   \n",
            "=================================================================\n",
            "conv2d (Conv2D)              (None, 148, 148, 32)      896       \n",
            "_________________________________________________________________\n",
            "max_pooling2d (MaxPooling2D) (None, 74, 74, 32)        0         \n",
            "_________________________________________________________________\n",
            "conv2d_1 (Conv2D)            (None, 72, 72, 64)        18496     \n",
            "_________________________________________________________________\n",
            "max_pooling2d_1 (MaxPooling2 (None, 36, 36, 64)        0         \n",
            "_________________________________________________________________\n",
            "conv2d_2 (Conv2D)            (None, 34, 34, 64)        36928     \n",
            "_________________________________________________________________\n",
            "max_pooling2d_2 (MaxPooling2 (None, 17, 17, 64)        0         \n",
            "_________________________________________________________________\n",
            "flatten (Flatten)            (None, 18496)             0         \n",
            "_________________________________________________________________\n",
            "dense (Dense)                (None, 512)               9470464   \n",
            "_________________________________________________________________\n",
            "dense_1 (Dense)              (None, 3)                 1539      \n",
            "=================================================================\n",
            "Total params: 9,528,323\n",
            "Trainable params: 9,528,323\n",
            "Non-trainable params: 0\n",
            "_________________________________________________________________\n"
          ],
          "name": "stdout"
        }
      ]
    },
    {
      "cell_type": "code",
      "metadata": {
        "id": "WSLmhbD5Ws9B",
        "colab_type": "code",
        "colab": {}
      },
      "source": [
        "# model.compile(loss='binary_crossentropy',\n",
        "#               optimizer=tf.optimizers.Adam(),\n",
        "#               metrics=['accuracy'])\n",
        "\n",
        "model.compile(loss=tf.keras.losses.CategoricalCrossentropy(),\n",
        "   optimizer=tf.keras.optimizers.SGD(),\n",
        "   metrics=['accuracy'])\n",
        "\n",
        "# loss_fn = tf.keras.losses.SparseCategoricalCrossentropy()\n",
        "# model.compile(loss=loss_fn, optimizer='adam')"
      ],
      "execution_count": 0,
      "outputs": []
    },
    {
      "cell_type": "code",
      "metadata": {
        "id": "ObRGStW1TZOK",
        "colab_type": "code",
        "colab": {}
      },
      "source": [
        "callback = tf.keras.callbacks.EarlyStopping(monitor='accuracy', patience=20, mode='max') # https://keras.io/api/callbacks/early_stopping/"
      ],
      "execution_count": 0,
      "outputs": []
    },
    {
      "cell_type": "code",
      "metadata": {
        "id": "_gG5MjuvY69B",
        "colab_type": "code",
        "outputId": "26db1866-d41a-4d68-ec1c-0073fdcb3d0b",
        "colab": {
          "base_uri": "https://localhost:8080/",
          "height": 1000
        }
      },
      "source": [
        "model.fit(\n",
        "      train_generator,\n",
        "      callbacks=[callback] , #callback early stop\n",
        "      steps_per_epoch=25,  # berapa batch yang akan dieksekusi pada setiap epoch\n",
        "      epochs=100,  # -> 100 kali propagasi balik\n",
        "      validation_data=validation_generator, # menampilkan akurasi pengujian data validasi\n",
        "      validation_steps=5,  # berapa batch yang akan dieksekusi pada setiap epoch\n",
        "      verbose=2,)"
      ],
      "execution_count": 11,
      "outputs": [
        {
          "output_type": "stream",
          "text": [
            "Epoch 1/100\n",
            "25/25 - 6s - loss: 1.1335 - accuracy: 0.3333 - val_loss: 1.0839 - val_accuracy: 0.3333\n",
            "Epoch 2/100\n",
            "25/25 - 5s - loss: 1.0930 - accuracy: 0.3200 - val_loss: 1.0562 - val_accuracy: 0.6000\n",
            "Epoch 3/100\n",
            "25/25 - 5s - loss: 1.0513 - accuracy: 0.5067 - val_loss: 1.0448 - val_accuracy: 0.6000\n",
            "Epoch 4/100\n",
            "25/25 - 6s - loss: 1.0075 - accuracy: 0.5733 - val_loss: 1.0317 - val_accuracy: 0.5333\n",
            "Epoch 5/100\n",
            "25/25 - 6s - loss: 0.8360 - accuracy: 0.6400 - val_loss: 0.8310 - val_accuracy: 0.6000\n",
            "Epoch 6/100\n",
            "25/25 - 6s - loss: 0.8732 - accuracy: 0.6533 - val_loss: 0.7149 - val_accuracy: 0.8000\n",
            "Epoch 7/100\n",
            "25/25 - 5s - loss: 0.8759 - accuracy: 0.5200 - val_loss: 0.7092 - val_accuracy: 0.6667\n",
            "Epoch 8/100\n",
            "25/25 - 5s - loss: 0.6366 - accuracy: 0.7333 - val_loss: 0.5285 - val_accuracy: 0.8000\n",
            "Epoch 9/100\n",
            "25/25 - 5s - loss: 0.7515 - accuracy: 0.6933 - val_loss: 0.8226 - val_accuracy: 0.6667\n",
            "Epoch 10/100\n",
            "25/25 - 5s - loss: 0.6808 - accuracy: 0.7733 - val_loss: 0.3439 - val_accuracy: 0.9333\n",
            "Epoch 11/100\n",
            "25/25 - 6s - loss: 0.7183 - accuracy: 0.7467 - val_loss: 0.6061 - val_accuracy: 0.7333\n",
            "Epoch 12/100\n",
            "25/25 - 5s - loss: 0.5901 - accuracy: 0.7733 - val_loss: 0.2764 - val_accuracy: 1.0000\n",
            "Epoch 13/100\n",
            "25/25 - 5s - loss: 0.4765 - accuracy: 0.8800 - val_loss: 0.3693 - val_accuracy: 0.8667\n",
            "Epoch 14/100\n",
            "25/25 - 5s - loss: 0.4806 - accuracy: 0.8267 - val_loss: 0.7599 - val_accuracy: 0.6667\n",
            "Epoch 15/100\n",
            "25/25 - 5s - loss: 0.5643 - accuracy: 0.7733 - val_loss: 0.1751 - val_accuracy: 1.0000\n",
            "Epoch 16/100\n",
            "25/25 - 5s - loss: 0.4156 - accuracy: 0.8533 - val_loss: 0.3380 - val_accuracy: 0.8000\n",
            "Epoch 17/100\n",
            "25/25 - 5s - loss: 0.5717 - accuracy: 0.8000 - val_loss: 0.4295 - val_accuracy: 0.8000\n",
            "Epoch 18/100\n",
            "25/25 - 5s - loss: 0.3540 - accuracy: 0.8667 - val_loss: 0.2787 - val_accuracy: 0.9333\n",
            "Epoch 19/100\n",
            "25/25 - 5s - loss: 0.4574 - accuracy: 0.8267 - val_loss: 0.5179 - val_accuracy: 0.8000\n",
            "Epoch 20/100\n",
            "25/25 - 6s - loss: 0.3573 - accuracy: 0.8800 - val_loss: 0.3253 - val_accuracy: 0.8667\n",
            "Epoch 21/100\n",
            "25/25 - 5s - loss: 0.3669 - accuracy: 0.8267 - val_loss: 0.2388 - val_accuracy: 0.8667\n",
            "Epoch 22/100\n",
            "25/25 - 6s - loss: 0.4084 - accuracy: 0.8533 - val_loss: 0.5818 - val_accuracy: 0.8000\n",
            "Epoch 23/100\n",
            "25/25 - 6s - loss: 0.2292 - accuracy: 0.9333 - val_loss: 0.6489 - val_accuracy: 0.5333\n",
            "Epoch 24/100\n",
            "25/25 - 5s - loss: 0.4590 - accuracy: 0.8000 - val_loss: 0.3937 - val_accuracy: 0.9333\n",
            "Epoch 25/100\n",
            "25/25 - 5s - loss: 0.2568 - accuracy: 0.8800 - val_loss: 0.3297 - val_accuracy: 0.8667\n",
            "Epoch 26/100\n",
            "25/25 - 5s - loss: 0.2750 - accuracy: 0.8667 - val_loss: 0.0655 - val_accuracy: 1.0000\n",
            "Epoch 27/100\n",
            "25/25 - 5s - loss: 0.3228 - accuracy: 0.8667 - val_loss: 0.5940 - val_accuracy: 0.7333\n",
            "Epoch 28/100\n",
            "25/25 - 5s - loss: 0.1664 - accuracy: 0.9200 - val_loss: 0.0776 - val_accuracy: 1.0000\n",
            "Epoch 29/100\n",
            "25/25 - 5s - loss: 0.2769 - accuracy: 0.9200 - val_loss: 0.1206 - val_accuracy: 0.9333\n",
            "Epoch 30/100\n",
            "25/25 - 5s - loss: 0.2063 - accuracy: 0.9067 - val_loss: 0.0598 - val_accuracy: 1.0000\n",
            "Epoch 31/100\n",
            "25/25 - 6s - loss: 0.1345 - accuracy: 0.9733 - val_loss: 0.2119 - val_accuracy: 0.8667\n",
            "Epoch 32/100\n",
            "25/25 - 5s - loss: 0.4245 - accuracy: 0.8933 - val_loss: 0.1503 - val_accuracy: 0.9333\n",
            "Epoch 33/100\n",
            "25/25 - 5s - loss: 0.1251 - accuracy: 0.9467 - val_loss: 0.3080 - val_accuracy: 0.9333\n",
            "Epoch 34/100\n",
            "25/25 - 5s - loss: 0.2089 - accuracy: 0.9467 - val_loss: 0.2922 - val_accuracy: 0.9333\n",
            "Epoch 35/100\n",
            "25/25 - 5s - loss: 0.1059 - accuracy: 0.9733 - val_loss: 0.0747 - val_accuracy: 1.0000\n",
            "Epoch 36/100\n",
            "25/25 - 5s - loss: 0.1168 - accuracy: 0.9467 - val_loss: 0.1110 - val_accuracy: 1.0000\n",
            "Epoch 37/100\n",
            "25/25 - 5s - loss: 0.2452 - accuracy: 0.8933 - val_loss: 0.2305 - val_accuracy: 0.9333\n",
            "Epoch 38/100\n",
            "25/25 - 5s - loss: 0.2781 - accuracy: 0.8800 - val_loss: 0.0900 - val_accuracy: 1.0000\n",
            "Epoch 39/100\n",
            "25/25 - 5s - loss: 0.2247 - accuracy: 0.9467 - val_loss: 0.1483 - val_accuracy: 0.9333\n",
            "Epoch 40/100\n",
            "25/25 - 5s - loss: 0.1614 - accuracy: 0.9600 - val_loss: 0.0375 - val_accuracy: 1.0000\n",
            "Epoch 41/100\n",
            "25/25 - 5s - loss: 0.0892 - accuracy: 0.9733 - val_loss: 0.1483 - val_accuracy: 0.9333\n",
            "Epoch 42/100\n",
            "25/25 - 5s - loss: 0.1055 - accuracy: 0.9600 - val_loss: 0.2587 - val_accuracy: 0.9333\n",
            "Epoch 43/100\n",
            "25/25 - 5s - loss: 0.1713 - accuracy: 0.9600 - val_loss: 0.0304 - val_accuracy: 1.0000\n",
            "Epoch 44/100\n",
            "25/25 - 5s - loss: 0.2675 - accuracy: 0.8800 - val_loss: 0.5533 - val_accuracy: 0.6667\n",
            "Epoch 45/100\n",
            "25/25 - 5s - loss: 0.1638 - accuracy: 0.9733 - val_loss: 0.0310 - val_accuracy: 1.0000\n",
            "Epoch 46/100\n",
            "25/25 - 5s - loss: 0.0965 - accuracy: 0.9600 - val_loss: 0.0576 - val_accuracy: 1.0000\n",
            "Epoch 47/100\n",
            "25/25 - 5s - loss: 0.0448 - accuracy: 0.9867 - val_loss: 0.0572 - val_accuracy: 1.0000\n",
            "Epoch 48/100\n",
            "25/25 - 5s - loss: 0.3553 - accuracy: 0.8667 - val_loss: 0.1697 - val_accuracy: 1.0000\n",
            "Epoch 49/100\n",
            "25/25 - 5s - loss: 0.1236 - accuracy: 0.9467 - val_loss: 0.5119 - val_accuracy: 0.8667\n",
            "Epoch 50/100\n",
            "25/25 - 6s - loss: 0.1307 - accuracy: 0.9333 - val_loss: 0.1024 - val_accuracy: 0.9333\n",
            "Epoch 51/100\n",
            "25/25 - 5s - loss: 0.0743 - accuracy: 0.9733 - val_loss: 0.3784 - val_accuracy: 0.9333\n",
            "Epoch 52/100\n",
            "25/25 - 5s - loss: 0.0937 - accuracy: 0.9467 - val_loss: 0.1606 - val_accuracy: 1.0000\n",
            "Epoch 53/100\n",
            "25/25 - 5s - loss: 0.1522 - accuracy: 0.9733 - val_loss: 0.1812 - val_accuracy: 0.9333\n",
            "Epoch 54/100\n",
            "25/25 - 5s - loss: 0.0920 - accuracy: 0.9600 - val_loss: 0.1079 - val_accuracy: 1.0000\n",
            "Epoch 55/100\n",
            "25/25 - 5s - loss: 0.1286 - accuracy: 0.9733 - val_loss: 0.0479 - val_accuracy: 1.0000\n",
            "Epoch 56/100\n",
            "25/25 - 5s - loss: 0.0250 - accuracy: 1.0000 - val_loss: 0.0842 - val_accuracy: 0.9333\n",
            "Epoch 57/100\n",
            "25/25 - 5s - loss: 0.1003 - accuracy: 0.9733 - val_loss: 0.5211 - val_accuracy: 0.8667\n",
            "Epoch 58/100\n",
            "25/25 - 6s - loss: 0.0940 - accuracy: 0.9467 - val_loss: 0.1192 - val_accuracy: 0.9333\n",
            "Epoch 59/100\n",
            "25/25 - 6s - loss: 0.0610 - accuracy: 0.9733 - val_loss: 0.1387 - val_accuracy: 0.9333\n",
            "Epoch 60/100\n",
            "25/25 - 5s - loss: 0.0887 - accuracy: 0.9600 - val_loss: 0.0132 - val_accuracy: 1.0000\n",
            "Epoch 61/100\n",
            "25/25 - 5s - loss: 0.1120 - accuracy: 0.9467 - val_loss: 0.1951 - val_accuracy: 0.9333\n",
            "Epoch 62/100\n",
            "25/25 - 6s - loss: 0.0486 - accuracy: 0.9867 - val_loss: 0.4626 - val_accuracy: 0.8667\n",
            "Epoch 63/100\n",
            "25/25 - 5s - loss: 0.0383 - accuracy: 0.9867 - val_loss: 0.1433 - val_accuracy: 0.9333\n",
            "Epoch 64/100\n",
            "25/25 - 5s - loss: 0.1356 - accuracy: 0.9467 - val_loss: 0.3361 - val_accuracy: 0.8667\n",
            "Epoch 65/100\n",
            "25/25 - 6s - loss: 0.0759 - accuracy: 0.9600 - val_loss: 0.0362 - val_accuracy: 1.0000\n",
            "Epoch 66/100\n",
            "25/25 - 5s - loss: 0.0508 - accuracy: 1.0000 - val_loss: 0.0175 - val_accuracy: 1.0000\n",
            "Epoch 67/100\n",
            "25/25 - 6s - loss: 0.1036 - accuracy: 0.9733 - val_loss: 0.1517 - val_accuracy: 0.9333\n",
            "Epoch 68/100\n",
            "25/25 - 5s - loss: 0.0244 - accuracy: 1.0000 - val_loss: 0.0065 - val_accuracy: 1.0000\n",
            "Epoch 69/100\n",
            "25/25 - 5s - loss: 0.2981 - accuracy: 0.8667 - val_loss: 0.0988 - val_accuracy: 0.9333\n",
            "Epoch 70/100\n",
            "25/25 - 5s - loss: 0.0530 - accuracy: 0.9867 - val_loss: 0.0107 - val_accuracy: 1.0000\n",
            "Epoch 71/100\n",
            "25/25 - 5s - loss: 0.0246 - accuracy: 1.0000 - val_loss: 0.2258 - val_accuracy: 0.8667\n",
            "Epoch 72/100\n",
            "25/25 - 5s - loss: 0.0534 - accuracy: 0.9867 - val_loss: 0.0078 - val_accuracy: 1.0000\n",
            "Epoch 73/100\n",
            "25/25 - 5s - loss: 0.0573 - accuracy: 0.9733 - val_loss: 0.7531 - val_accuracy: 0.8000\n",
            "Epoch 74/100\n",
            "25/25 - 5s - loss: 0.0143 - accuracy: 1.0000 - val_loss: 0.4074 - val_accuracy: 0.9333\n",
            "Epoch 75/100\n",
            "25/25 - 5s - loss: 0.2340 - accuracy: 0.9200 - val_loss: 0.0740 - val_accuracy: 1.0000\n",
            "Epoch 76/100\n",
            "25/25 - 5s - loss: 0.0834 - accuracy: 0.9733 - val_loss: 0.1127 - val_accuracy: 0.9333\n"
          ],
          "name": "stdout"
        },
        {
          "output_type": "execute_result",
          "data": {
            "text/plain": [
              "<tensorflow.python.keras.callbacks.History at 0x7f6f19c68550>"
            ]
          },
          "metadata": {
            "tags": []
          },
          "execution_count": 11
        }
      ]
    },
    {
      "cell_type": "code",
      "metadata": {
        "id": "Beq671URZc2_",
        "colab_type": "code",
        "outputId": "1499c9b2-6e56-4fee-e34b-401f8c1c6946",
        "colab": {
          "base_uri": "https://localhost:8080/",
          "height": 412
        }
      },
      "source": [
        "import numpy as np\n",
        "from google.colab import files\n",
        "from keras.preprocessing import image\n",
        "import matplotlib.pyplot as plt\n",
        "import matplotlib.image as mpimg\n",
        "import matplotlib.pyplot as plt\n",
        "import matplotlib.image as mpimg\n",
        "%matplotlib inline\n",
        "\n",
        "uploaded = files.upload()\n",
        "\n",
        "for fn in uploaded.keys():\n",
        " \n",
        "  # predicting images\n",
        "  path = fn\n",
        "  img = image.load_img(path, target_size=(150, 150))\n",
        "  imgplot = plt.imshow(img)\n",
        "  x = image.img_to_array(img)\n",
        "  x = np.expand_dims(x, axis=0)\n",
        "\n",
        "  images = np.vstack([x])\n",
        "  classes = model.predict(images, batch_size=10)\n",
        "  print(fn)\n",
        "\n",
        "  class_lables = list(train_generator.class_indices.keys())\n",
        "\n",
        "  print(classes)\n",
        "  class_indice = 0\n",
        "  for i in range(len(classes[0])):\n",
        "      if classes[0][i] > classes[0][0]:\n",
        "          class_indice = i\n",
        "  test_class = class_lables[class_indice]\n",
        "  print(test_class)\n"
      ],
      "execution_count": 12,
      "outputs": [
        {
          "output_type": "stream",
          "text": [
            "Using TensorFlow backend.\n"
          ],
          "name": "stderr"
        },
        {
          "output_type": "display_data",
          "data": {
            "text/html": [
              "\n",
              "     <input type=\"file\" id=\"files-c7c694d9-f76d-4556-96d0-379fd647f6d9\" name=\"files[]\" multiple disabled />\n",
              "     <output id=\"result-c7c694d9-f76d-4556-96d0-379fd647f6d9\">\n",
              "      Upload widget is only available when the cell has been executed in the\n",
              "      current browser session. Please rerun this cell to enable.\n",
              "      </output>\n",
              "      <script src=\"/nbextensions/google.colab/files.js\"></script> "
            ],
            "text/plain": [
              "<IPython.core.display.HTML object>"
            ]
          },
          "metadata": {
            "tags": []
          }
        },
        {
          "output_type": "error",
          "ename": "MessageError",
          "evalue": "ignored",
          "traceback": [
            "\u001b[0;31m---------------------------------------------------------------------------\u001b[0m",
            "\u001b[0;31mMessageError\u001b[0m                              Traceback (most recent call last)",
            "\u001b[0;32m<ipython-input-12-f79c8709c699>\u001b[0m in \u001b[0;36m<module>\u001b[0;34m()\u001b[0m\n\u001b[1;32m      8\u001b[0m \u001b[0mget_ipython\u001b[0m\u001b[0;34m(\u001b[0m\u001b[0;34m)\u001b[0m\u001b[0;34m.\u001b[0m\u001b[0mmagic\u001b[0m\u001b[0;34m(\u001b[0m\u001b[0;34m'matplotlib inline'\u001b[0m\u001b[0;34m)\u001b[0m\u001b[0;34m\u001b[0m\u001b[0;34m\u001b[0m\u001b[0m\n\u001b[1;32m      9\u001b[0m \u001b[0;34m\u001b[0m\u001b[0m\n\u001b[0;32m---> 10\u001b[0;31m \u001b[0muploaded\u001b[0m \u001b[0;34m=\u001b[0m \u001b[0mfiles\u001b[0m\u001b[0;34m.\u001b[0m\u001b[0mupload\u001b[0m\u001b[0;34m(\u001b[0m\u001b[0;34m)\u001b[0m\u001b[0;34m\u001b[0m\u001b[0;34m\u001b[0m\u001b[0m\n\u001b[0m\u001b[1;32m     11\u001b[0m \u001b[0;34m\u001b[0m\u001b[0m\n\u001b[1;32m     12\u001b[0m \u001b[0;32mfor\u001b[0m \u001b[0mfn\u001b[0m \u001b[0;32min\u001b[0m \u001b[0muploaded\u001b[0m\u001b[0;34m.\u001b[0m\u001b[0mkeys\u001b[0m\u001b[0;34m(\u001b[0m\u001b[0;34m)\u001b[0m\u001b[0;34m:\u001b[0m\u001b[0;34m\u001b[0m\u001b[0;34m\u001b[0m\u001b[0m\n",
            "\u001b[0;32m/usr/local/lib/python3.6/dist-packages/google/colab/files.py\u001b[0m in \u001b[0;36mupload\u001b[0;34m()\u001b[0m\n\u001b[1;32m     62\u001b[0m   result = _output.eval_js(\n\u001b[1;32m     63\u001b[0m       'google.colab._files._uploadFiles(\"{input_id}\", \"{output_id}\")'.format(\n\u001b[0;32m---> 64\u001b[0;31m           input_id=input_id, output_id=output_id))\n\u001b[0m\u001b[1;32m     65\u001b[0m   \u001b[0mfiles\u001b[0m \u001b[0;34m=\u001b[0m \u001b[0m_collections\u001b[0m\u001b[0;34m.\u001b[0m\u001b[0mdefaultdict\u001b[0m\u001b[0;34m(\u001b[0m\u001b[0m_six\u001b[0m\u001b[0;34m.\u001b[0m\u001b[0mbinary_type\u001b[0m\u001b[0;34m)\u001b[0m\u001b[0;34m\u001b[0m\u001b[0;34m\u001b[0m\u001b[0m\n\u001b[1;32m     66\u001b[0m   \u001b[0;31m# Mapping from original filename to filename as saved locally.\u001b[0m\u001b[0;34m\u001b[0m\u001b[0;34m\u001b[0m\u001b[0;34m\u001b[0m\u001b[0m\n",
            "\u001b[0;32m/usr/local/lib/python3.6/dist-packages/google/colab/output/_js.py\u001b[0m in \u001b[0;36meval_js\u001b[0;34m(script, ignore_result)\u001b[0m\n\u001b[1;32m     37\u001b[0m   \u001b[0;32mif\u001b[0m \u001b[0mignore_result\u001b[0m\u001b[0;34m:\u001b[0m\u001b[0;34m\u001b[0m\u001b[0;34m\u001b[0m\u001b[0m\n\u001b[1;32m     38\u001b[0m     \u001b[0;32mreturn\u001b[0m\u001b[0;34m\u001b[0m\u001b[0;34m\u001b[0m\u001b[0m\n\u001b[0;32m---> 39\u001b[0;31m   \u001b[0;32mreturn\u001b[0m \u001b[0m_message\u001b[0m\u001b[0;34m.\u001b[0m\u001b[0mread_reply_from_input\u001b[0m\u001b[0;34m(\u001b[0m\u001b[0mrequest_id\u001b[0m\u001b[0;34m)\u001b[0m\u001b[0;34m\u001b[0m\u001b[0;34m\u001b[0m\u001b[0m\n\u001b[0m\u001b[1;32m     40\u001b[0m \u001b[0;34m\u001b[0m\u001b[0m\n\u001b[1;32m     41\u001b[0m \u001b[0;34m\u001b[0m\u001b[0m\n",
            "\u001b[0;32m/usr/local/lib/python3.6/dist-packages/google/colab/_message.py\u001b[0m in \u001b[0;36mread_reply_from_input\u001b[0;34m(message_id, timeout_sec)\u001b[0m\n\u001b[1;32m    104\u001b[0m         reply.get('colab_msg_id') == message_id):\n\u001b[1;32m    105\u001b[0m       \u001b[0;32mif\u001b[0m \u001b[0;34m'error'\u001b[0m \u001b[0;32min\u001b[0m \u001b[0mreply\u001b[0m\u001b[0;34m:\u001b[0m\u001b[0;34m\u001b[0m\u001b[0;34m\u001b[0m\u001b[0m\n\u001b[0;32m--> 106\u001b[0;31m         \u001b[0;32mraise\u001b[0m \u001b[0mMessageError\u001b[0m\u001b[0;34m(\u001b[0m\u001b[0mreply\u001b[0m\u001b[0;34m[\u001b[0m\u001b[0;34m'error'\u001b[0m\u001b[0;34m]\u001b[0m\u001b[0;34m)\u001b[0m\u001b[0;34m\u001b[0m\u001b[0;34m\u001b[0m\u001b[0m\n\u001b[0m\u001b[1;32m    107\u001b[0m       \u001b[0;32mreturn\u001b[0m \u001b[0mreply\u001b[0m\u001b[0;34m.\u001b[0m\u001b[0mget\u001b[0m\u001b[0;34m(\u001b[0m\u001b[0;34m'data'\u001b[0m\u001b[0;34m,\u001b[0m \u001b[0;32mNone\u001b[0m\u001b[0;34m)\u001b[0m\u001b[0;34m\u001b[0m\u001b[0;34m\u001b[0m\u001b[0m\n\u001b[1;32m    108\u001b[0m \u001b[0;34m\u001b[0m\u001b[0m\n",
            "\u001b[0;31mMessageError\u001b[0m: TypeError: Cannot read property '_uploadFiles' of undefined"
          ]
        }
      ]
    },
    {
      "cell_type": "markdown",
      "metadata": {
        "id": "DiCbIdLEqW9c",
        "colab_type": "text"
      },
      "source": [
        "# New Section"
      ]
    }
  ]
}